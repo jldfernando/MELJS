{
 "cells": [
  {
   "cell_type": "markdown",
   "id": "706d730d",
   "metadata": {},
   "source": [
    "# Notebook for cleaning and preparing the raw data"
   ]
  },
  {
   "cell_type": "code",
   "execution_count": 1,
   "id": "6f6f1445",
   "metadata": {},
   "outputs": [],
   "source": [
    "# Import common libraries for data manipulation and visualization\n",
    "import pandas as pd\n",
    "import numpy as np\n",
    "import matplotlib.pyplot as plt "
   ]
  },
  {
   "cell_type": "markdown",
   "id": "27413b9e",
   "metadata": {},
   "source": [
    "## Explore raw data provided"
   ]
  },
  {
   "cell_type": "code",
   "execution_count": 2,
   "id": "d3656824",
   "metadata": {},
   "outputs": [
    {
     "data": {
      "text/html": [
       "<div>\n",
       "<style scoped>\n",
       "    .dataframe tbody tr th:only-of-type {\n",
       "        vertical-align: middle;\n",
       "    }\n",
       "\n",
       "    .dataframe tbody tr th {\n",
       "        vertical-align: top;\n",
       "    }\n",
       "\n",
       "    .dataframe thead th {\n",
       "        text-align: right;\n",
       "    }\n",
       "</style>\n",
       "<table border=\"1\" class=\"dataframe\">\n",
       "  <thead>\n",
       "    <tr style=\"text-align: right;\">\n",
       "      <th></th>\n",
       "      <th>Importer</th>\n",
       "      <th>TEU</th>\n",
       "      <th>Month</th>\n",
       "      <th>Unlading_Port</th>\n",
       "      <th>Origin_Country</th>\n",
       "      <th>HS_Codes</th>\n",
       "    </tr>\n",
       "  </thead>\n",
       "  <tbody>\n",
       "    <tr>\n",
       "      <th>0</th>\n",
       "      <td>Importer_00001</td>\n",
       "      <td>0.849421</td>\n",
       "      <td>1</td>\n",
       "      <td>4601</td>\n",
       "      <td>POLAND</td>\n",
       "      <td>990500</td>\n",
       "    </tr>\n",
       "    <tr>\n",
       "      <th>1</th>\n",
       "      <td>Importer_00002</td>\n",
       "      <td>1.000000</td>\n",
       "      <td>1</td>\n",
       "      <td>1401</td>\n",
       "      <td>ITALY</td>\n",
       "      <td>330590</td>\n",
       "    </tr>\n",
       "    <tr>\n",
       "      <th>2</th>\n",
       "      <td>Importer_00003</td>\n",
       "      <td>2.000000</td>\n",
       "      <td>1</td>\n",
       "      <td>5301</td>\n",
       "      <td>BELGIUM</td>\n",
       "      <td>730890</td>\n",
       "    </tr>\n",
       "    <tr>\n",
       "      <th>3</th>\n",
       "      <td>Importer_00004</td>\n",
       "      <td>0.035356</td>\n",
       "      <td>1</td>\n",
       "      <td>5301</td>\n",
       "      <td>GERMANY</td>\n",
       "      <td>580620</td>\n",
       "    </tr>\n",
       "    <tr>\n",
       "      <th>4</th>\n",
       "      <td>Importer_00005</td>\n",
       "      <td>4.000000</td>\n",
       "      <td>1</td>\n",
       "      <td>4601</td>\n",
       "      <td>DENMARK</td>\n",
       "      <td>392030</td>\n",
       "    </tr>\n",
       "  </tbody>\n",
       "</table>\n",
       "</div>"
      ],
      "text/plain": [
       "         Importer       TEU  Month  Unlading_Port Origin_Country  HS_Codes\n",
       "0  Importer_00001  0.849421      1           4601         POLAND    990500\n",
       "1  Importer_00002  1.000000      1           1401          ITALY    330590\n",
       "2  Importer_00003  2.000000      1           5301        BELGIUM    730890\n",
       "3  Importer_00004  0.035356      1           5301        GERMANY    580620\n",
       "4  Importer_00005  4.000000      1           4601        DENMARK    392030"
      ]
     },
     "execution_count": 2,
     "metadata": {},
     "output_type": "execute_result"
    }
   ],
   "source": [
    "raw_df = pd.read_csv(r'..\\data\\raw_data\\imports_main.csv')\n",
    "raw_df.head()"
   ]
  },
  {
   "cell_type": "code",
   "execution_count": 3,
   "id": "00e4cc4f",
   "metadata": {},
   "outputs": [
    {
     "name": "stdout",
     "output_type": "stream",
     "text": [
      "Dimensions\n",
      "-------------------\n",
      "(4158454, 6)\n",
      "\n",
      "Data Types\n",
      "-------------------\n",
      "Importer           object\n",
      "TEU               float64\n",
      "Month               int64\n",
      "Unlading_Port       int64\n",
      "Origin_Country     object\n",
      "HS_Codes            int64\n",
      "dtype: object\n",
      "\n",
      "Null values\n",
      "-------------------\n",
      "Importer          0\n",
      "TEU               0\n",
      "Month             0\n",
      "Unlading_Port     0\n",
      "Origin_Country    3\n",
      "HS_Codes          0\n",
      "dtype: int64\n",
      "\n",
      "Unique values\n",
      "-------------------\n",
      "Importer          222221\n",
      "TEU               409556\n",
      "Month                 12\n",
      "Unlading_Port         97\n",
      "Origin_Country       225\n",
      "HS_Codes           23898\n",
      "dtype: int64\n",
      "\n",
      "Duplicate values\n",
      "-------------------\n",
      "2197940\n",
      "\n"
     ]
    }
   ],
   "source": [
    "print(f'Dimensions\\n-------------------\\n{raw_df.shape}\\n')\n",
    "print(f'Data Types\\n-------------------\\n{raw_df.dtypes}\\n')\n",
    "print(f'Null values\\n-------------------\\n{raw_df.isnull().sum()}\\n')\n",
    "print(f'Unique values\\n-------------------\\n{raw_df.nunique()}\\n')\n",
    "print(f'Duplicate values\\n-------------------\\n{raw_df.duplicated().sum()}\\n')"
   ]
  },
  {
   "cell_type": "markdown",
   "id": "af75cd4c",
   "metadata": {},
   "source": [
    "Notes:  \n",
    "- Large amount of duplicate entries\n",
    "- despite the int data types, only TEU is numeric (ratio), everything else is nominal (categorical)\n",
    "- 3 entries do not have an origin country?"
   ]
  },
  {
   "cell_type": "markdown",
   "id": "c7d6d9f2",
   "metadata": {},
   "source": [
    "###  Let's check the Months"
   ]
  },
  {
   "cell_type": "code",
   "execution_count": 4,
   "id": "7202bad3",
   "metadata": {},
   "outputs": [
    {
     "data": {
      "text/plain": [
       "<Axes: ylabel='Month'>"
      ]
     },
     "execution_count": 4,
     "metadata": {},
     "output_type": "execute_result"
    },
    {
     "data": {
      "image/png": "[encoded data removed]",
      "text/plain": [
       "<Figure size 640x480 with 1 Axes>"
      ]
     },
     "metadata": {},
     "output_type": "display_data"
    }
   ],
   "source": [
    "# Let's generate a barplot for the number of import entries per month to check if the months are balanced or imbalanced\n",
    "raw_df['Month'].value_counts().plot.barh()"
   ]
  },
  {
   "cell_type": "code",
   "execution_count": 5,
   "id": "e8a4298b",
   "metadata": {},
   "outputs": [
    {
     "data": {
      "text/plain": [
       "count        12.000000\n",
       "mean     346537.833333\n",
       "std       27464.033382\n",
       "min      286773.000000\n",
       "25%      333901.250000\n",
       "50%      345826.500000\n",
       "75%      362624.250000\n",
       "max      385519.000000\n",
       "Name: count, dtype: float64"
      ]
     },
     "execution_count": 5,
     "metadata": {},
     "output_type": "execute_result"
    }
   ],
   "source": [
    "# Let's get the statistics of the months\n",
    "raw_df['Month'].value_counts().describe()"
   ]
  },
  {
   "cell_type": "markdown",
   "id": "e3b47fd7",
   "metadata": {},
   "source": [
    "The Months are roughly balanced with a standard deviation of only 27k"
   ]
  },
  {
   "cell_type": "markdown",
   "id": "ce381740",
   "metadata": {},
   "source": [
    "###  Let's check the HS codes"
   ]
  },
  {
   "cell_type": "code",
   "execution_count": 6,
   "id": "0c5a3961",
   "metadata": {},
   "outputs": [
    {
     "name": "stdout",
     "output_type": "stream",
     "text": [
      "HS_Codes\n",
      "401110    0.021902\n",
      "940161    0.015003\n",
      "950300    0.013055\n",
      "940360    0.012621\n",
      "392690    0.012181\n",
      "690721    0.009577\n",
      "870899    0.009283\n",
      "220421    0.007808\n",
      "870829    0.007418\n",
      "940350    0.007179\n",
      "Name: count, dtype: float64\n"
     ]
    }
   ],
   "source": [
    "# Let's check if there is a high cardinality in the HS codes\n",
    "fraction = raw_df['HS_Codes'].value_counts()/len(raw_df)\n",
    "\n",
    "# Print the fractional values\n",
    "print(fraction.sort_values(ascending=False).head(10))"
   ]
  },
  {
   "cell_type": "code",
   "execution_count": 7,
   "id": "fc6d3f70",
   "metadata": {},
   "outputs": [
    {
     "data": {
      "text/plain": [
       "count    23898.000000\n",
       "mean       174.008453\n",
       "std       1385.615106\n",
       "min          1.000000\n",
       "25%          1.000000\n",
       "50%          2.000000\n",
       "75%          8.000000\n",
       "max      91077.000000\n",
       "Name: count, dtype: float64"
      ]
     },
     "execution_count": 7,
     "metadata": {},
     "output_type": "execute_result"
    }
   ],
   "source": [
    "# Let's get the summary statistics for the HS codes\n",
    "raw_df['HS_Codes'].value_counts().describe()"
   ]
  },
  {
   "cell_type": "code",
   "execution_count": 8,
   "id": "55a57f61",
   "metadata": {},
   "outputs": [
    {
     "data": {
      "image/png": "[encoded data removed]",
      "text/plain": [
       "<Figure size 640x480 with 1 Axes>"
      ]
     },
     "metadata": {},
     "output_type": "display_data"
    }
   ],
   "source": [
    "# Histogram\n",
    "raw_df['HS_Codes'].value_counts().hist(bins=30)\n",
    "plt.grid(False)"
   ]
  },
  {
   "cell_type": "markdown",
   "id": "dc49d34e",
   "metadata": {},
   "source": [
    "HS codes are highly skewed \n",
    "- standard deviation is greater than the mean\n",
    "- median is way less than the mean implying left skewed"
   ]
  },
  {
   "cell_type": "markdown",
   "id": "75e5a17e",
   "metadata": {},
   "source": [
    "###  Let's check the Importers"
   ]
  },
  {
   "cell_type": "code",
   "execution_count": 9,
   "id": "39ebadf4",
   "metadata": {},
   "outputs": [
    {
     "name": "stdout",
     "output_type": "stream",
     "text": [
      "Importer\n",
      "Importer_00193    0.015150\n",
      "Importer_00028    0.014470\n",
      "Importer_00015    0.010935\n",
      "Importer_00226    0.009974\n",
      "Importer_00057    0.009561\n",
      "Importer_00206    0.008459\n",
      "Importer_00060    0.008240\n",
      "Importer_00232    0.006092\n",
      "Importer_00501    0.005850\n",
      "Importer_00047    0.005078\n",
      "Name: count, dtype: float64\n"
     ]
    }
   ],
   "source": [
    "# Let's do the same for importers\n",
    "fraction = raw_df['Importer'].value_counts()/len(raw_df)\n",
    "\n",
    "# Print the fractional values\n",
    "print(fraction.sort_values(ascending=False).head(10))"
   ]
  },
  {
   "cell_type": "code",
   "execution_count": 10,
   "id": "9cf505b0",
   "metadata": {},
   "outputs": [
    {
     "data": {
      "text/plain": [
       "count    222221.000000\n",
       "mean         18.713146\n",
       "std         334.146558\n",
       "min           1.000000\n",
       "25%           1.000000\n",
       "50%           2.000000\n",
       "75%           5.000000\n",
       "max       63001.000000\n",
       "Name: count, dtype: float64"
      ]
     },
     "execution_count": 10,
     "metadata": {},
     "output_type": "execute_result"
    }
   ],
   "source": [
    "# Let's get the summary statistics for the Importers\n",
    "raw_df['Importer'].value_counts().describe()"
   ]
  },
  {
   "cell_type": "code",
   "execution_count": 11,
   "id": "fbe27251",
   "metadata": {},
   "outputs": [
    {
     "data": {
      "image/png": "[encoded data removed]",
      "text/plain": [
       "<Figure size 640x480 with 1 Axes>"
      ]
     },
     "metadata": {},
     "output_type": "display_data"
    }
   ],
   "source": [
    "# Histogram\n",
    "raw_df['Importer'].value_counts().hist(bins=30)\n",
    "plt.grid(False)"
   ]
  },
  {
   "cell_type": "markdown",
   "id": "9e0bf5e4",
   "metadata": {},
   "source": [
    "Importers have the same story as HS codes"
   ]
  },
  {
   "cell_type": "markdown",
   "id": "7baff202",
   "metadata": {},
   "source": [
    "###  Let's check the Countries"
   ]
  },
  {
   "cell_type": "code",
   "execution_count": 12,
   "id": "6f96ff18",
   "metadata": {},
   "outputs": [
    {
     "name": "stdout",
     "output_type": "stream",
     "text": [
      "Origin_Country\n",
      "CHINA               0.192079\n",
      "GERMANY             0.107880\n",
      "VIETNAM             0.066551\n",
      "TAIWAN              0.052448\n",
      "INDIA               0.051088\n",
      "HONG KONG S.A.R.    0.040082\n",
      "ITALY               0.039306\n",
      "TURKEY              0.030842\n",
      "JAPAN               0.030533\n",
      "THAILAND            0.025604\n",
      "Name: count, dtype: float64\n"
     ]
    },
    {
     "data": {
      "text/plain": [
       "<Axes: ylabel='Origin_Country'>"
      ]
     },
     "execution_count": 12,
     "metadata": {},
     "output_type": "execute_result"
    },
    {
     "data": {
      "image/png": "[encoded data removed]",
      "text/plain": [
       "<Figure size 640x480 with 1 Axes>"
      ]
     },
     "metadata": {},
     "output_type": "display_data"
    }
   ],
   "source": [
    "# Let's do the same for Origin country\n",
    "fraction = raw_df['Origin_Country'].value_counts()/len(raw_df)\n",
    "\n",
    "# Print the fractional values\n",
    "print(fraction.sort_values(ascending=False).head(10))\n",
    "\n",
    "# Plot the top 10 in descending order\n",
    "fraction[:10].sort_values(ascending=True).plot.barh()"
   ]
  },
  {
   "cell_type": "code",
   "execution_count": 13,
   "id": "0f0ce3cf",
   "metadata": {},
   "outputs": [
    {
     "data": {
      "text/plain": [
       "count       225.000000\n",
       "mean      18482.004444\n",
       "std       70110.372120\n",
       "min           1.000000\n",
       "25%          31.000000\n",
       "50%         260.000000\n",
       "75%        5920.000000\n",
       "max      798750.000000\n",
       "Name: count, dtype: float64"
      ]
     },
     "execution_count": 13,
     "metadata": {},
     "output_type": "execute_result"
    }
   ],
   "source": [
    "# Let's get the summary statistics for the Origin Country\n",
    "raw_df['Origin_Country'].value_counts().describe()"
   ]
  },
  {
   "cell_type": "code",
   "execution_count": 14,
   "id": "a871c065",
   "metadata": {},
   "outputs": [
    {
     "data": {
      "image/png": "[encoded data removed]",
      "text/plain": [
       "<Figure size 640x480 with 1 Axes>"
      ]
     },
     "metadata": {},
     "output_type": "display_data"
    }
   ],
   "source": [
    "# Histogram\n",
    "raw_df['Origin_Country'].value_counts().hist(bins=30)\n",
    "plt.grid(False)"
   ]
  }
 ],
 "metadata": {
  "kernelspec": {
   "display_name": "meljs_env",
   "language": "python",
   "name": "python3"
  },
  "language_info": {
   "codemirror_mode": {
    "name": "ipython",
    "version": 3
   },
   "file_extension": ".py",
   "mimetype": "text/x-python",
   "name": "python",
   "nbconvert_exporter": "python",
   "pygments_lexer": "ipython3",
   "version": "3.13.2"
  }
 },
 "nbformat": 4,
 "nbformat_minor": 5
}
